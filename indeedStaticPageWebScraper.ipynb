{
  "nbformat": 4,
  "nbformat_minor": 0,
  "metadata": {
    "colab": {
      "name": "indeedStaticPageWebScraper.ipynb",
      "provenance": [],
      "authorship_tag": "ABX9TyMPrlPjH6OYnzRi48HZI+o1",
      "include_colab_link": true
    },
    "kernelspec": {
      "name": "python3",
      "display_name": "Python 3"
    }
  },
  "cells": [
    {
      "cell_type": "markdown",
      "metadata": {
        "id": "view-in-github",
        "colab_type": "text"
      },
      "source": [
        "<a href=\"https://colab.research.google.com/github/sunil0209/WebScrapings/blob/main/indeedStaticPageWebScraper.ipynb\" target=\"_parent\"><img src=\"https://colab.research.google.com/assets/colab-badge.svg\" alt=\"Open In Colab\"/></a>"
      ]
    },
    {
      "cell_type": "code",
      "metadata": {
        "id": "LmjK_yx-JhLg"
      },
      "source": [
        "import requests\n",
        "import html5lib\n",
        "from bs4 import BeautifulSoup \n",
        "import csv "
      ],
      "execution_count": 16,
      "outputs": []
    },
    {
      "cell_type": "code",
      "metadata": {
        "id": "tNwFTuacN_yO"
      },
      "source": [
        "URL = 'https://www.indeed.co.in/jobs?q=Machine+Learning+Engineer&l=&ts=1603110604780&rq=1&rsIdx=0&fromage=last&newcount=2276'\n",
        "page = requests.get(URL)"
      ],
      "execution_count": 17,
      "outputs": []
    },
    {
      "cell_type": "code",
      "metadata": {
        "id": "uWv0AjAxJxuZ"
      },
      "source": [
        "soup = BeautifulSoup(page.content, 'html5lib')\n",
        "print(soup.prettify()) "
      ],
      "execution_count": null,
      "outputs": []
    },
    {
      "cell_type": "code",
      "metadata": {
        "id": "WKA21ssMO0B2",
        "outputId": "010b42d3-decd-4df2-ce71-7b3918279e85",
        "colab": {
          "base_uri": "https://localhost:8080/",
          "height": 1000
        }
      },
      "source": [
        "my_data = []\n",
        "indeed_scrapped_data = soup.findAll('div', attrs = {\"class\": \"jobsearch-SerpJobCard\"}) \n",
        "for data in indeed_scrapped_data:\n",
        "  temp = {}\n",
        "  temp['job_title'] = data.h2.a['title']\n",
        "  temp['job_company'] = data.find('span',class_ = \"company\").get_text()\n",
        "  temp['job_location'] = data.find('span',class_ = \"location\").get_text()\n",
        "  print('Job Title::::',temp['job_title'])\n",
        "  print('Location:::::',temp['job_location'])\n",
        "  print('\\n')"
      ],
      "execution_count": 15,
      "outputs": [
        {
          "output_type": "stream",
          "text": [
            "Job Title:::: [JO-820] Machine Learning Engineer\n",
            "Location::::: Bangalore Rural, Karnataka\n",
            "\n",
            "\n",
            "Job Title:::: Machine Learning Engineer\n",
            "Location::::: Bengaluru, Karnataka\n",
            "\n",
            "\n",
            "Job Title:::: [OPS77] - Machine Learning Engineer\n",
            "Location::::: Bangalore Rural, Karnataka\n",
            "\n",
            "\n",
            "Job Title:::: Machine Learning Engineer\n",
            "Location::::: Bengaluru, Karnataka\n",
            "\n",
            "\n",
            "Job Title:::: Machine Learning Engineer\n",
            "Location::::: Pune, Maharashtra\n",
            "\n",
            "\n",
            "Job Title:::: Software Engineer Machine Learning | (P-135)\n",
            "Location::::: India\n",
            "\n",
            "\n",
            "Job Title:::: [SGO-316] | Machine Learning Engineer\n",
            "Location::::: Maharashtra\n",
            "\n",
            "\n",
            "Job Title:::: Sr Machine Learning Engineer\n",
            "Location::::: Bengaluru, Karnataka\n",
            "\n",
            "\n",
            "Job Title:::: Embedded Machine Learning Engineer\n",
            "Location::::: Bengaluru, Karnataka\n",
            "\n",
            "\n",
            "Job Title:::: (OU-753) - Data Science/ Machine Learning Engineer\n",
            "Location::::: India\n",
            "\n",
            "\n",
            "Job Title:::: Deep learning Engineer\n",
            "Location::::: Bengaluru, Karnataka\n",
            "\n",
            "\n",
            "Job Title:::: Machine Learning Engineer\n",
            "Location::::: Kanpur, Uttar Pradesh\n",
            "\n",
            "\n",
            "Job Title:::: Specialist - Machine Learning\n",
            "Location::::: Hyderabad, Telangana\n",
            "\n",
            "\n",
            "Job Title:::: Deep Learning Engineer (Intern)\n",
            "Location::::: Hyderabad, Telangana\n",
            "\n",
            "\n",
            "Job Title:::: Machine Learning Engineer-NLP\n",
            "Location::::: Hyderabad, Telangana\n",
            "\n",
            "\n"
          ],
          "name": "stdout"
        }
      ]
    }
  ]
}