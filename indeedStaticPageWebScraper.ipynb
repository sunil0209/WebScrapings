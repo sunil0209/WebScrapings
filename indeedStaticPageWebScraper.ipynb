{
  "nbformat": 4,
  "nbformat_minor": 0,
  "metadata": {
    "colab": {
      "name": "indeedStaticPageWebScraper.ipynb",
      "provenance": [],
      "authorship_tag": "ABX9TyOKbsKm6PaA7O4W8Lm9tNxv",
      "include_colab_link": true
    },
    "kernelspec": {
      "name": "python3",
      "display_name": "Python 3"
    }
  },
  "cells": [
    {
      "cell_type": "markdown",
      "metadata": {
        "id": "view-in-github",
        "colab_type": "text"
      },
      "source": [
        "<a href=\"https://colab.research.google.com/github/sunil0209/WebScrapings/blob/main/indeedStaticPageWebScraper.ipynb\" target=\"_parent\"><img src=\"https://colab.research.google.com/assets/colab-badge.svg\" alt=\"Open In Colab\"/></a>"
      ]
    },
    {
      "cell_type": "code",
      "metadata": {
        "id": "LmjK_yx-JhLg"
      },
      "source": [
        "import requests\n",
        "import pprint\n",
        "import html5lib\n",
        "from bs4 import BeautifulSoup \n",
        "import csv "
      ],
      "execution_count": null,
      "outputs": []
    },
    {
      "cell_type": "code",
      "metadata": {
        "id": "tNwFTuacN_yO"
      },
      "source": [
        "URL = 'https://www.indeed.co.in/jobs?q=Machine+Learning+Engineer&l=&ts=1603110604780&rq=1&rsIdx=0&fromage=last&newcount=2276'\n",
        "page = requests.get(URL)"
      ],
      "execution_count": null,
      "outputs": []
    },
    {
      "cell_type": "code",
      "metadata": {
        "id": "uWv0AjAxJxuZ"
      },
      "source": [
        "soup = BeautifulSoup(page.content, 'html5lib')\n",
        "#print(soup.prettify()) "
      ],
      "execution_count": null,
      "outputs": []
    },
    {
      "cell_type": "code",
      "metadata": {
        "id": "WKA21ssMO0B2",
        "outputId": "dad6327f-697f-428c-a188-9fba05ec2e85",
        "colab": {
          "base_uri": "https://localhost:8080/",
          "height": 563
        }
      },
      "source": [
        "my_data = []\n",
        "indeed_scrapped_data = soup.findAll('div', attrs = {\"class\": \"jobsearch-SerpJobCard\"}) \n",
        "for data in indeed_scrapped_data:\n",
        "  temp = {}\n",
        "  temp['job_title'] = data.h2.a['title']\n",
        "  temp['job_company'] = data.find('span',class_ = \"company\").get_text()\n",
        "  temp['job_location'] = data.find('span',class_ = \"location\").get_text()\n",
        "  temp['job_salary'] = data.find('span',class_ = \"salaryText\").get_text()\n",
        "  print(temp['job_title'])\n",
        "  print(temp['job_location'])\n",
        "    "
      ],
      "execution_count": null,
      "outputs": [
        {
          "output_type": "stream",
          "text": [
            "Deep learning Engineer\n",
            "Bengaluru, Karnataka\n",
            "[NXU673] Machine Learning Engineer\n",
            "Telangana\n",
            "Machine Learning Engineer\n",
            "Bengaluru, Karnataka\n",
            "Big Data Machine Learning Engineer | (BZW-809)\n",
            "Bangalore Rural, Karnataka\n",
            "Deep Learning Engineer (Intern)\n",
            "Hyderabad, Telangana\n",
            "Sr Machine Learning Engineer\n",
            "Bengaluru, Karnataka\n",
            "Machine Learning Engineer\n",
            "Pune, Maharashtra\n",
            "Machine Learning Engineer\n",
            "India\n",
            "Machine Learning Engineer\n",
            "Kanpur, Uttar Pradesh\n",
            "Machine Learning Engineer-NLP\n",
            "Hyderabad, Telangana\n",
            "Lead Research Engineer – Machine Learning\n",
            "Bengaluru, Karnataka\n",
            "Machine Learning Engineer\n",
            "Mumbai, Maharashtra\n",
            "NLP/Deep learning Engineer\n",
            "India\n",
            "Machine Learning Engineer\n",
            "Hyderabad, Telangana\n",
            "Machine Learning Engineer\n",
            "Bengaluru, Karnataka\n"
          ],
          "name": "stdout"
        }
      ]
    }
  ]
}